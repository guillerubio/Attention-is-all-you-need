{
 "cells": [
  {
   "attachments": {},
   "cell_type": "markdown",
   "metadata": {},
   "source": [
    "# data_proc.ipynb \n",
    "### Made by William Rubio on June 2023"
   ]
  },
  {
   "cell_type": "code",
   "execution_count": 4,
   "metadata": {},
   "outputs": [
    {
     "name": "stdout",
     "output_type": "stream",
     "text": [
      "--2023-06-06 11:06:51--  https://raw.githubusercontent.com/karpathy/char-rnn/master/data/tinyshakespeare/input.txt\n",
      "Resolving raw.githubusercontent.com (raw.githubusercontent.com)... 185.199.109.133, 185.199.110.133, 185.199.111.133, ...\n",
      "Connecting to raw.githubusercontent.com (raw.githubusercontent.com)|185.199.109.133|:443... connected.\n",
      "HTTP request sent, awaiting response... 200 OK\n",
      "Length: 1115394 (1.1M) [text/plain]\n",
      "Saving to: 'data/input.txt'\n",
      "\n",
      "input.txt           100%[===================>]   1.06M  1.08MB/s    in 1.0s    \n",
      "\n",
      "2023-06-06 11:06:53 (1.08 MB/s) - 'data/input.txt' saved [1115394/1115394]\n",
      "\n"
     ]
    }
   ],
   "source": [
    "# Download the dataset\n",
    "!wget -P data/ https://raw.githubusercontent.com/karpathy/char-rnn/master/data/tinyshakespeare/input.txt "
   ]
  },
  {
   "cell_type": "code",
   "execution_count": 6,
   "metadata": {},
   "outputs": [
    {
     "name": "stdout",
     "output_type": "stream",
     "text": [
      "First Citizen:\n",
      "Before we proceed any further, hear me speak.\n",
      "\n",
      "All:\n",
      "Speak, speak.\n",
      "\n",
      "First Citizen:\n",
      "You\n"
     ]
    }
   ],
   "source": [
    "# Read the dataset and save it in a variable\n",
    "with open('data/input.txt', 'r') as f:\n",
    "    text = f.read()\n",
    "print(text[:100])"
   ]
  },
  {
   "cell_type": "code",
   "execution_count": 10,
   "metadata": {},
   "outputs": [
    {
     "name": "stdout",
     "output_type": "stream",
     "text": [
      "['\\n', ' ', '!', '$', '&', \"'\", ',', '-', '.', '3', ':', ';', '?', 'A', 'B', 'C', 'D', 'E', 'F', 'G', 'H', 'I', 'J', 'K', 'L', 'M', 'N', 'O', 'P', 'Q', 'R', 'S', 'T', 'U', 'V', 'W', 'X', 'Y', 'Z', 'a', 'b', 'c', 'd', 'e', 'f', 'g', 'h', 'i', 'j', 'k', 'l', 'm', 'n', 'o', 'p', 'q', 'r', 's', 't', 'u', 'v', 'w', 'x', 'y', 'z']\n",
      "65\n"
     ]
    }
   ],
   "source": [
    "# Inspect the characters that are present in the dataset\n",
    "chars = sorted(list(set(text)))\n",
    "print(chars)\n",
    "vocab_size = len(chars)\n",
    "print(vocab_size)"
   ]
  },
  {
   "attachments": {},
   "cell_type": "markdown",
   "metadata": {},
   "source": [
    "# Tokens\n",
    "\n",
    "Tokenize input text: Covert raw text as a string to a sequence of integers according to a vocabulary of possible elements. \n",
    "Google uses SentencePiece, it's a sub-word tokenizer, ++ Vocabulaty == ++ Tokens == -- Decode array == More reasoning"
   ]
  },
  {
   "cell_type": "code",
   "execution_count": 19,
   "metadata": {},
   "outputs": [
    {
     "name": "stdout",
     "output_type": "stream",
     "text": [
      "[[0, '\\n'], [1, ' '], [2, '!'], [3, '$'], [4, '&'], [5, \"'\"], [6, ','], [7, '-'], [8, '.'], [9, '3'], [10, ':'], [11, ';'], [12, '?'], [13, 'A'], [14, 'B'], [15, 'C'], [16, 'D'], [17, 'E'], [18, 'F'], [19, 'G'], [20, 'H'], [21, 'I'], [22, 'J'], [23, 'K'], [24, 'L'], [25, 'M'], [26, 'N'], [27, 'O'], [28, 'P'], [29, 'Q'], [30, 'R'], [31, 'S'], [32, 'T'], [33, 'U'], [34, 'V'], [35, 'W'], [36, 'X'], [37, 'Y'], [38, 'Z'], [39, 'a'], [40, 'b'], [41, 'c'], [42, 'd'], [43, 'e'], [44, 'f'], [45, 'g'], [46, 'h'], [47, 'i'], [48, 'j'], [49, 'k'], [50, 'l'], [51, 'm'], [52, 'n'], [53, 'o'], [54, 'p'], [55, 'q'], [56, 'r'], [57, 's'], [58, 't'], [59, 'u'], [60, 'v'], [61, 'w'], [62, 'x'], [63, 'y'], [64, 'z']]\n"
     ]
    }
   ],
   "source": [
    "stoi = []\n",
    "i = 0\n",
    "for character in chars:\n",
    "    stoi.append([i, character])\n",
    "    i += 1\n",
    "print(stoi)"
   ]
  },
  {
   "cell_type": "code",
   "execution_count": 30,
   "metadata": {},
   "outputs": [],
   "source": [
    "# Encode and decode functions\n",
    "def encode(string):\n",
    "    ans = []\n",
    "    for character in string:\n",
    "        for tuple in stoi:\n",
    "            if tuple[1] == character:\n",
    "                ans.append(tuple[0])\n",
    "                break\n",
    "    return ans\n",
    "\n",
    "def decode(arr):\n",
    "    ans = \"\"\n",
    "    for num in arr:\n",
    "        for tuple in stoi:\n",
    "            if tuple[0] == num:\n",
    "                ans+=tuple[1]\n",
    "                break\n",
    "    return ans\n",
    "\n"
   ]
  },
  {
   "cell_type": "code",
   "execution_count": null,
   "metadata": {},
   "outputs": [],
   "source": [
    "# Encode dataset\n",
    "import torch as pt\n"
   ]
  }
 ],
 "metadata": {
  "kernelspec": {
   "display_name": "base",
   "language": "python",
   "name": "python3"
  },
  "language_info": {
   "codemirror_mode": {
    "name": "ipython",
    "version": 3
   },
   "file_extension": ".py",
   "mimetype": "text/x-python",
   "name": "python",
   "nbconvert_exporter": "python",
   "pygments_lexer": "ipython3",
   "version": "3.9.13"
  },
  "orig_nbformat": 4
 },
 "nbformat": 4,
 "nbformat_minor": 2
}
